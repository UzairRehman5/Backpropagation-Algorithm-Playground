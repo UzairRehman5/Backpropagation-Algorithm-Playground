{
  "nbformat": 4,
  "nbformat_minor": 0,
  "metadata": {
    "colab": {
      "provenance": []
    },
    "kernelspec": {
      "name": "python3",
      "display_name": "Python 3"
    },
    "language_info": {
      "name": "python"
    }
  },
  "cells": [
    {
      "cell_type": "code",
      "execution_count": 1,
      "metadata": {
        "id": "siAPAOW_-j1i"
      },
      "outputs": [],
      "source": [
        "import pandas as pd\n",
        "import numpy as np"
      ]
    },
    {
      "cell_type": "code",
      "source": [
        "df = pd.DataFrame([[8,8,4],[7,9,5],[6,10,6],[5,12,7]], columns=['cgpa', 'resume_score', 'lpa'])"
      ],
      "metadata": {
        "id": "2hS8Yvc6_BEB"
      },
      "execution_count": 2,
      "outputs": []
    },
    {
      "cell_type": "code",
      "source": [
        "df"
      ],
      "metadata": {
        "colab": {
          "base_uri": "https://localhost:8080/",
          "height": 175
        },
        "id": "fRtUD8ox_VoP",
        "outputId": "253c8215-7b5b-404c-ba82-eba973daf28b"
      },
      "execution_count": 3,
      "outputs": [
        {
          "output_type": "execute_result",
          "data": {
            "text/plain": [
              "   cgpa  resume_score  lpa\n",
              "0     8             8    4\n",
              "1     7             9    5\n",
              "2     6            10    6\n",
              "3     5            12    7"
            ],
            "text/html": [
              "\n",
              "  <div id=\"df-41d33939-2167-4246-b7c7-307c10c79401\" class=\"colab-df-container\">\n",
              "    <div>\n",
              "<style scoped>\n",
              "    .dataframe tbody tr th:only-of-type {\n",
              "        vertical-align: middle;\n",
              "    }\n",
              "\n",
              "    .dataframe tbody tr th {\n",
              "        vertical-align: top;\n",
              "    }\n",
              "\n",
              "    .dataframe thead th {\n",
              "        text-align: right;\n",
              "    }\n",
              "</style>\n",
              "<table border=\"1\" class=\"dataframe\">\n",
              "  <thead>\n",
              "    <tr style=\"text-align: right;\">\n",
              "      <th></th>\n",
              "      <th>cgpa</th>\n",
              "      <th>resume_score</th>\n",
              "      <th>lpa</th>\n",
              "    </tr>\n",
              "  </thead>\n",
              "  <tbody>\n",
              "    <tr>\n",
              "      <th>0</th>\n",
              "      <td>8</td>\n",
              "      <td>8</td>\n",
              "      <td>4</td>\n",
              "    </tr>\n",
              "    <tr>\n",
              "      <th>1</th>\n",
              "      <td>7</td>\n",
              "      <td>9</td>\n",
              "      <td>5</td>\n",
              "    </tr>\n",
              "    <tr>\n",
              "      <th>2</th>\n",
              "      <td>6</td>\n",
              "      <td>10</td>\n",
              "      <td>6</td>\n",
              "    </tr>\n",
              "    <tr>\n",
              "      <th>3</th>\n",
              "      <td>5</td>\n",
              "      <td>12</td>\n",
              "      <td>7</td>\n",
              "    </tr>\n",
              "  </tbody>\n",
              "</table>\n",
              "</div>\n",
              "    <div class=\"colab-df-buttons\">\n",
              "\n",
              "  <div class=\"colab-df-container\">\n",
              "    <button class=\"colab-df-convert\" onclick=\"convertToInteractive('df-41d33939-2167-4246-b7c7-307c10c79401')\"\n",
              "            title=\"Convert this dataframe to an interactive table.\"\n",
              "            style=\"display:none;\">\n",
              "\n",
              "  <svg xmlns=\"http://www.w3.org/2000/svg\" height=\"24px\" viewBox=\"0 -960 960 960\">\n",
              "    <path d=\"M120-120v-720h720v720H120Zm60-500h600v-160H180v160Zm220 220h160v-160H400v160Zm0 220h160v-160H400v160ZM180-400h160v-160H180v160Zm440 0h160v-160H620v160ZM180-180h160v-160H180v160Zm440 0h160v-160H620v160Z\"/>\n",
              "  </svg>\n",
              "    </button>\n",
              "\n",
              "  <style>\n",
              "    .colab-df-container {\n",
              "      display:flex;\n",
              "      gap: 12px;\n",
              "    }\n",
              "\n",
              "    .colab-df-convert {\n",
              "      background-color: #E8F0FE;\n",
              "      border: none;\n",
              "      border-radius: 50%;\n",
              "      cursor: pointer;\n",
              "      display: none;\n",
              "      fill: #1967D2;\n",
              "      height: 32px;\n",
              "      padding: 0 0 0 0;\n",
              "      width: 32px;\n",
              "    }\n",
              "\n",
              "    .colab-df-convert:hover {\n",
              "      background-color: #E2EBFA;\n",
              "      box-shadow: 0px 1px 2px rgba(60, 64, 67, 0.3), 0px 1px 3px 1px rgba(60, 64, 67, 0.15);\n",
              "      fill: #174EA6;\n",
              "    }\n",
              "\n",
              "    .colab-df-buttons div {\n",
              "      margin-bottom: 4px;\n",
              "    }\n",
              "\n",
              "    [theme=dark] .colab-df-convert {\n",
              "      background-color: #3B4455;\n",
              "      fill: #D2E3FC;\n",
              "    }\n",
              "\n",
              "    [theme=dark] .colab-df-convert:hover {\n",
              "      background-color: #434B5C;\n",
              "      box-shadow: 0px 1px 3px 1px rgba(0, 0, 0, 0.15);\n",
              "      filter: drop-shadow(0px 1px 2px rgba(0, 0, 0, 0.3));\n",
              "      fill: #FFFFFF;\n",
              "    }\n",
              "  </style>\n",
              "\n",
              "    <script>\n",
              "      const buttonEl =\n",
              "        document.querySelector('#df-41d33939-2167-4246-b7c7-307c10c79401 button.colab-df-convert');\n",
              "      buttonEl.style.display =\n",
              "        google.colab.kernel.accessAllowed ? 'block' : 'none';\n",
              "\n",
              "      async function convertToInteractive(key) {\n",
              "        const element = document.querySelector('#df-41d33939-2167-4246-b7c7-307c10c79401');\n",
              "        const dataTable =\n",
              "          await google.colab.kernel.invokeFunction('convertToInteractive',\n",
              "                                                    [key], {});\n",
              "        if (!dataTable) return;\n",
              "\n",
              "        const docLinkHtml = 'Like what you see? Visit the ' +\n",
              "          '<a target=\"_blank\" href=https://colab.research.google.com/notebooks/data_table.ipynb>data table notebook</a>'\n",
              "          + ' to learn more about interactive tables.';\n",
              "        element.innerHTML = '';\n",
              "        dataTable['output_type'] = 'display_data';\n",
              "        await google.colab.output.renderOutput(dataTable, element);\n",
              "        const docLink = document.createElement('div');\n",
              "        docLink.innerHTML = docLinkHtml;\n",
              "        element.appendChild(docLink);\n",
              "      }\n",
              "    </script>\n",
              "  </div>\n",
              "\n",
              "\n",
              "<div id=\"df-dd03683f-45cd-455b-97a9-3d01abde470f\">\n",
              "  <button class=\"colab-df-quickchart\" onclick=\"quickchart('df-dd03683f-45cd-455b-97a9-3d01abde470f')\"\n",
              "            title=\"Suggest charts.\"\n",
              "            style=\"display:none;\">\n",
              "\n",
              "<svg xmlns=\"http://www.w3.org/2000/svg\" height=\"24px\"viewBox=\"0 0 24 24\"\n",
              "     width=\"24px\">\n",
              "    <g>\n",
              "        <path d=\"M19 3H5c-1.1 0-2 .9-2 2v14c0 1.1.9 2 2 2h14c1.1 0 2-.9 2-2V5c0-1.1-.9-2-2-2zM9 17H7v-7h2v7zm4 0h-2V7h2v10zm4 0h-2v-4h2v4z\"/>\n",
              "    </g>\n",
              "</svg>\n",
              "  </button>\n",
              "\n",
              "<style>\n",
              "  .colab-df-quickchart {\n",
              "      --bg-color: #E8F0FE;\n",
              "      --fill-color: #1967D2;\n",
              "      --hover-bg-color: #E2EBFA;\n",
              "      --hover-fill-color: #174EA6;\n",
              "      --disabled-fill-color: #AAA;\n",
              "      --disabled-bg-color: #DDD;\n",
              "  }\n",
              "\n",
              "  [theme=dark] .colab-df-quickchart {\n",
              "      --bg-color: #3B4455;\n",
              "      --fill-color: #D2E3FC;\n",
              "      --hover-bg-color: #434B5C;\n",
              "      --hover-fill-color: #FFFFFF;\n",
              "      --disabled-bg-color: #3B4455;\n",
              "      --disabled-fill-color: #666;\n",
              "  }\n",
              "\n",
              "  .colab-df-quickchart {\n",
              "    background-color: var(--bg-color);\n",
              "    border: none;\n",
              "    border-radius: 50%;\n",
              "    cursor: pointer;\n",
              "    display: none;\n",
              "    fill: var(--fill-color);\n",
              "    height: 32px;\n",
              "    padding: 0;\n",
              "    width: 32px;\n",
              "  }\n",
              "\n",
              "  .colab-df-quickchart:hover {\n",
              "    background-color: var(--hover-bg-color);\n",
              "    box-shadow: 0 1px 2px rgba(60, 64, 67, 0.3), 0 1px 3px 1px rgba(60, 64, 67, 0.15);\n",
              "    fill: var(--button-hover-fill-color);\n",
              "  }\n",
              "\n",
              "  .colab-df-quickchart-complete:disabled,\n",
              "  .colab-df-quickchart-complete:disabled:hover {\n",
              "    background-color: var(--disabled-bg-color);\n",
              "    fill: var(--disabled-fill-color);\n",
              "    box-shadow: none;\n",
              "  }\n",
              "\n",
              "  .colab-df-spinner {\n",
              "    border: 2px solid var(--fill-color);\n",
              "    border-color: transparent;\n",
              "    border-bottom-color: var(--fill-color);\n",
              "    animation:\n",
              "      spin 1s steps(1) infinite;\n",
              "  }\n",
              "\n",
              "  @keyframes spin {\n",
              "    0% {\n",
              "      border-color: transparent;\n",
              "      border-bottom-color: var(--fill-color);\n",
              "      border-left-color: var(--fill-color);\n",
              "    }\n",
              "    20% {\n",
              "      border-color: transparent;\n",
              "      border-left-color: var(--fill-color);\n",
              "      border-top-color: var(--fill-color);\n",
              "    }\n",
              "    30% {\n",
              "      border-color: transparent;\n",
              "      border-left-color: var(--fill-color);\n",
              "      border-top-color: var(--fill-color);\n",
              "      border-right-color: var(--fill-color);\n",
              "    }\n",
              "    40% {\n",
              "      border-color: transparent;\n",
              "      border-right-color: var(--fill-color);\n",
              "      border-top-color: var(--fill-color);\n",
              "    }\n",
              "    60% {\n",
              "      border-color: transparent;\n",
              "      border-right-color: var(--fill-color);\n",
              "    }\n",
              "    80% {\n",
              "      border-color: transparent;\n",
              "      border-right-color: var(--fill-color);\n",
              "      border-bottom-color: var(--fill-color);\n",
              "    }\n",
              "    90% {\n",
              "      border-color: transparent;\n",
              "      border-bottom-color: var(--fill-color);\n",
              "    }\n",
              "  }\n",
              "</style>\n",
              "\n",
              "  <script>\n",
              "    async function quickchart(key) {\n",
              "      const quickchartButtonEl =\n",
              "        document.querySelector('#' + key + ' button');\n",
              "      quickchartButtonEl.disabled = true;  // To prevent multiple clicks.\n",
              "      quickchartButtonEl.classList.add('colab-df-spinner');\n",
              "      try {\n",
              "        const charts = await google.colab.kernel.invokeFunction(\n",
              "            'suggestCharts', [key], {});\n",
              "      } catch (error) {\n",
              "        console.error('Error during call to suggestCharts:', error);\n",
              "      }\n",
              "      quickchartButtonEl.classList.remove('colab-df-spinner');\n",
              "      quickchartButtonEl.classList.add('colab-df-quickchart-complete');\n",
              "    }\n",
              "    (() => {\n",
              "      let quickchartButtonEl =\n",
              "        document.querySelector('#df-dd03683f-45cd-455b-97a9-3d01abde470f button');\n",
              "      quickchartButtonEl.style.display =\n",
              "        google.colab.kernel.accessAllowed ? 'block' : 'none';\n",
              "    })();\n",
              "  </script>\n",
              "</div>\n",
              "    </div>\n",
              "  </div>\n"
            ]
          },
          "metadata": {},
          "execution_count": 3
        }
      ]
    },
    {
      "cell_type": "code",
      "source": [
        "import tensorflow\n",
        "from tensorflow import keras\n",
        "from keras import Sequential\n",
        "from keras.layers import Dense"
      ],
      "metadata": {
        "id": "pXzNSTR-_WPR"
      },
      "execution_count": 5,
      "outputs": []
    },
    {
      "cell_type": "code",
      "source": [
        "model = Sequential()\n",
        "\n",
        "model.add(Dense(2, activation='linear', input_dim=2))\n",
        "model.add(Dense(1, activation='linear'))"
      ],
      "metadata": {
        "id": "rtJ7N-ak_jGq"
      },
      "execution_count": 6,
      "outputs": []
    },
    {
      "cell_type": "code",
      "source": [
        "model.summary()"
      ],
      "metadata": {
        "colab": {
          "base_uri": "https://localhost:8080/"
        },
        "id": "520mWQif_4w-",
        "outputId": "6f66b6a1-456b-4f7b-e6a9-0c02abc114d6"
      },
      "execution_count": 7,
      "outputs": [
        {
          "output_type": "stream",
          "name": "stdout",
          "text": [
            "Model: \"sequential\"\n",
            "_________________________________________________________________\n",
            " Layer (type)                Output Shape              Param #   \n",
            "=================================================================\n",
            " dense (Dense)               (None, 2)                 6         \n",
            "                                                                 \n",
            " dense_1 (Dense)             (None, 1)                 3         \n",
            "                                                                 \n",
            "=================================================================\n",
            "Total params: 9 (36.00 Byte)\n",
            "Trainable params: 9 (36.00 Byte)\n",
            "Non-trainable params: 0 (0.00 Byte)\n",
            "_________________________________________________________________\n"
          ]
        }
      ]
    },
    {
      "cell_type": "code",
      "source": [
        "model.get_weights()"
      ],
      "metadata": {
        "colab": {
          "base_uri": "https://localhost:8080/"
        },
        "id": "2kS4DFGG_7PC",
        "outputId": "b58c3a4b-12fd-4586-dc04-3782eea65b59"
      },
      "execution_count": 8,
      "outputs": [
        {
          "output_type": "execute_result",
          "data": {
            "text/plain": [
              "[array([[-0.3093515 ,  0.59599876],\n",
              "        [-0.35415983, -0.41308665]], dtype=float32),\n",
              " array([0., 0.], dtype=float32),\n",
              " array([[0.5023227],\n",
              "        [1.147976 ]], dtype=float32),\n",
              " array([0.], dtype=float32)]"
            ]
          },
          "metadata": {},
          "execution_count": 8
        }
      ]
    },
    {
      "cell_type": "code",
      "source": [
        "new_weights = [np.array([[0.1 ,  0.1],\n",
        "        [0.1, 0.1]], dtype=np.float32),\n",
        " np.array([0., 0.], dtype=np.float32),\n",
        " np.array([[0.1],\n",
        "        [0.1 ]], dtype=np.float32),\n",
        " np.array([0.], dtype=np.float32)]"
      ],
      "metadata": {
        "id": "O3XAbOx3ADa2"
      },
      "execution_count": 11,
      "outputs": []
    },
    {
      "cell_type": "code",
      "source": [
        "model.set_weights(new_weights)"
      ],
      "metadata": {
        "id": "q_RX4B9vAb2_"
      },
      "execution_count": 14,
      "outputs": []
    },
    {
      "cell_type": "code",
      "source": [
        "model.get_weights()"
      ],
      "metadata": {
        "colab": {
          "base_uri": "https://localhost:8080/"
        },
        "id": "JX-iJRFvAspW",
        "outputId": "3ac68057-8273-42a2-ee92-9e2b999dc2a4"
      },
      "execution_count": 15,
      "outputs": [
        {
          "output_type": "execute_result",
          "data": {
            "text/plain": [
              "[array([[0.1, 0.1],\n",
              "        [0.1, 0.1]], dtype=float32),\n",
              " array([0., 0.], dtype=float32),\n",
              " array([[0.1],\n",
              "        [0.1]], dtype=float32),\n",
              " array([0.], dtype=float32)]"
            ]
          },
          "metadata": {},
          "execution_count": 15
        }
      ]
    },
    {
      "cell_type": "code",
      "source": [
        "optimizer = keras.optimizers.Adam(learning_rate=0.001)\n",
        "model.compile(loss='mean_squared_error', optimizer=optimizer)"
      ],
      "metadata": {
        "id": "UtKxesf-A2Cm"
      },
      "execution_count": 16,
      "outputs": []
    },
    {
      "cell_type": "code",
      "source": [
        "model.fit(df.iloc[:,0:-1].values, df['lpa'].values, epochs=80, verbose=1, batch_size=1)"
      ],
      "metadata": {
        "colab": {
          "base_uri": "https://localhost:8080/"
        },
        "id": "rIvpEQPMBOxC",
        "outputId": "f903cf25-d7ce-41d2-ea20-e8b01a66223c"
      },
      "execution_count": 17,
      "outputs": [
        {
          "output_type": "stream",
          "name": "stdout",
          "text": [
            "Epoch 1/80\n",
            "4/4 [==============================] - 1s 3ms/step - loss: 27.9075\n",
            "Epoch 2/80\n",
            "4/4 [==============================] - 0s 2ms/step - loss: 27.5641\n",
            "Epoch 3/80\n",
            "4/4 [==============================] - 0s 2ms/step - loss: 27.2560\n",
            "Epoch 4/80\n",
            "4/4 [==============================] - 0s 3ms/step - loss: 26.9200\n",
            "Epoch 5/80\n",
            "4/4 [==============================] - 0s 2ms/step - loss: 26.5695\n",
            "Epoch 6/80\n",
            "4/4 [==============================] - 0s 3ms/step - loss: 26.2235\n",
            "Epoch 7/80\n",
            "4/4 [==============================] - 0s 2ms/step - loss: 25.8313\n",
            "Epoch 8/80\n",
            "4/4 [==============================] - 0s 3ms/step - loss: 25.4453\n",
            "Epoch 9/80\n",
            "4/4 [==============================] - 0s 2ms/step - loss: 25.0729\n",
            "Epoch 10/80\n",
            "4/4 [==============================] - 0s 2ms/step - loss: 24.6555\n",
            "Epoch 11/80\n",
            "4/4 [==============================] - 0s 3ms/step - loss: 24.2271\n",
            "Epoch 12/80\n",
            "4/4 [==============================] - 0s 2ms/step - loss: 23.8102\n",
            "Epoch 13/80\n",
            "4/4 [==============================] - 0s 2ms/step - loss: 23.4091\n",
            "Epoch 14/80\n",
            "4/4 [==============================] - 0s 2ms/step - loss: 22.9543\n",
            "Epoch 15/80\n",
            "4/4 [==============================] - 0s 4ms/step - loss: 22.4950\n",
            "Epoch 16/80\n",
            "4/4 [==============================] - 0s 2ms/step - loss: 22.0143\n",
            "Epoch 17/80\n",
            "4/4 [==============================] - 0s 2ms/step - loss: 21.5710\n",
            "Epoch 18/80\n",
            "4/4 [==============================] - 0s 2ms/step - loss: 21.0454\n",
            "Epoch 19/80\n",
            "4/4 [==============================] - 0s 3ms/step - loss: 20.5755\n",
            "Epoch 20/80\n",
            "4/4 [==============================] - 0s 2ms/step - loss: 20.0622\n",
            "Epoch 21/80\n",
            "4/4 [==============================] - 0s 2ms/step - loss: 19.5941\n",
            "Epoch 22/80\n",
            "4/4 [==============================] - 0s 2ms/step - loss: 19.0357\n",
            "Epoch 23/80\n",
            "4/4 [==============================] - 0s 3ms/step - loss: 18.5358\n",
            "Epoch 24/80\n",
            "4/4 [==============================] - 0s 2ms/step - loss: 18.0852\n",
            "Epoch 25/80\n",
            "4/4 [==============================] - 0s 2ms/step - loss: 17.5026\n",
            "Epoch 26/80\n",
            "4/4 [==============================] - 0s 2ms/step - loss: 17.0067\n",
            "Epoch 27/80\n",
            "4/4 [==============================] - 0s 3ms/step - loss: 16.4625\n",
            "Epoch 28/80\n",
            "4/4 [==============================] - 0s 3ms/step - loss: 15.9197\n",
            "Epoch 29/80\n",
            "4/4 [==============================] - 0s 3ms/step - loss: 15.3851\n",
            "Epoch 30/80\n",
            "4/4 [==============================] - 0s 3ms/step - loss: 14.8753\n",
            "Epoch 31/80\n",
            "4/4 [==============================] - 0s 3ms/step - loss: 14.3913\n",
            "Epoch 32/80\n",
            "4/4 [==============================] - 0s 3ms/step - loss: 13.8623\n",
            "Epoch 33/80\n",
            "4/4 [==============================] - 0s 3ms/step - loss: 13.3214\n",
            "Epoch 34/80\n",
            "4/4 [==============================] - 0s 3ms/step - loss: 12.8416\n",
            "Epoch 35/80\n",
            "4/4 [==============================] - 0s 3ms/step - loss: 12.3010\n",
            "Epoch 36/80\n",
            "4/4 [==============================] - 0s 3ms/step - loss: 11.7651\n",
            "Epoch 37/80\n",
            "4/4 [==============================] - 0s 2ms/step - loss: 11.3290\n",
            "Epoch 38/80\n",
            "4/4 [==============================] - 0s 3ms/step - loss: 10.8368\n",
            "Epoch 39/80\n",
            "4/4 [==============================] - 0s 3ms/step - loss: 10.3162\n",
            "Epoch 40/80\n",
            "4/4 [==============================] - 0s 3ms/step - loss: 9.8752\n",
            "Epoch 41/80\n",
            "4/4 [==============================] - 0s 3ms/step - loss: 9.3843\n",
            "Epoch 42/80\n",
            "4/4 [==============================] - 0s 3ms/step - loss: 9.0311\n",
            "Epoch 43/80\n",
            "4/4 [==============================] - 0s 3ms/step - loss: 8.5432\n",
            "Epoch 44/80\n",
            "4/4 [==============================] - 0s 2ms/step - loss: 8.1175\n",
            "Epoch 45/80\n",
            "4/4 [==============================] - 0s 2ms/step - loss: 7.7295\n",
            "Epoch 46/80\n",
            "4/4 [==============================] - 0s 2ms/step - loss: 7.2593\n",
            "Epoch 47/80\n",
            "4/4 [==============================] - 0s 2ms/step - loss: 6.9541\n",
            "Epoch 48/80\n",
            "4/4 [==============================] - 0s 3ms/step - loss: 6.5084\n",
            "Epoch 49/80\n",
            "4/4 [==============================] - 0s 2ms/step - loss: 6.2298\n",
            "Epoch 50/80\n",
            "4/4 [==============================] - 0s 3ms/step - loss: 5.8126\n",
            "Epoch 51/80\n",
            "4/4 [==============================] - 0s 3ms/step - loss: 5.4877\n",
            "Epoch 52/80\n",
            "4/4 [==============================] - 0s 2ms/step - loss: 5.2452\n",
            "Epoch 53/80\n",
            "4/4 [==============================] - 0s 2ms/step - loss: 4.8727\n",
            "Epoch 54/80\n",
            "4/4 [==============================] - 0s 3ms/step - loss: 4.6116\n",
            "Epoch 55/80\n",
            "4/4 [==============================] - 0s 3ms/step - loss: 4.3889\n",
            "Epoch 56/80\n",
            "4/4 [==============================] - 0s 2ms/step - loss: 4.0963\n",
            "Epoch 57/80\n",
            "4/4 [==============================] - 0s 2ms/step - loss: 3.8399\n",
            "Epoch 58/80\n",
            "4/4 [==============================] - 0s 3ms/step - loss: 3.6149\n",
            "Epoch 59/80\n",
            "4/4 [==============================] - 0s 3ms/step - loss: 3.3853\n",
            "Epoch 60/80\n",
            "4/4 [==============================] - 0s 4ms/step - loss: 3.2231\n",
            "Epoch 61/80\n",
            "4/4 [==============================] - 0s 3ms/step - loss: 3.0166\n",
            "Epoch 62/80\n",
            "4/4 [==============================] - 0s 3ms/step - loss: 2.8829\n",
            "Epoch 63/80\n",
            "4/4 [==============================] - 0s 2ms/step - loss: 2.6750\n",
            "Epoch 64/80\n",
            "4/4 [==============================] - 0s 2ms/step - loss: 2.5204\n",
            "Epoch 65/80\n",
            "4/4 [==============================] - 0s 2ms/step - loss: 2.3732\n",
            "Epoch 66/80\n",
            "4/4 [==============================] - 0s 2ms/step - loss: 2.2444\n",
            "Epoch 67/80\n",
            "4/4 [==============================] - 0s 3ms/step - loss: 2.1808\n",
            "Epoch 68/80\n",
            "4/4 [==============================] - 0s 2ms/step - loss: 2.0580\n",
            "Epoch 69/80\n",
            "4/4 [==============================] - 0s 2ms/step - loss: 1.9182\n",
            "Epoch 70/80\n",
            "4/4 [==============================] - 0s 2ms/step - loss: 1.8685\n",
            "Epoch 71/80\n",
            "4/4 [==============================] - 0s 2ms/step - loss: 1.7715\n",
            "Epoch 72/80\n",
            "4/4 [==============================] - 0s 2ms/step - loss: 1.6675\n",
            "Epoch 73/80\n",
            "4/4 [==============================] - 0s 3ms/step - loss: 1.6010\n",
            "Epoch 74/80\n",
            "4/4 [==============================] - 0s 3ms/step - loss: 1.5676\n",
            "Epoch 75/80\n",
            "4/4 [==============================] - 0s 2ms/step - loss: 1.5058\n",
            "Epoch 76/80\n",
            "4/4 [==============================] - 0s 3ms/step - loss: 1.4357\n",
            "Epoch 77/80\n",
            "4/4 [==============================] - 0s 3ms/step - loss: 1.3865\n",
            "Epoch 78/80\n",
            "4/4 [==============================] - 0s 3ms/step - loss: 1.3552\n",
            "Epoch 79/80\n",
            "4/4 [==============================] - 0s 3ms/step - loss: 1.3073\n",
            "Epoch 80/80\n",
            "4/4 [==============================] - 0s 4ms/step - loss: 1.2836\n"
          ]
        },
        {
          "output_type": "execute_result",
          "data": {
            "text/plain": [
              "<keras.src.callbacks.History at 0x7c3500abf7c0>"
            ]
          },
          "metadata": {},
          "execution_count": 17
        }
      ]
    },
    {
      "cell_type": "code",
      "source": [
        "model.get_weights()"
      ],
      "metadata": {
        "colab": {
          "base_uri": "https://localhost:8080/"
        },
        "id": "bUo78OcZBmZs",
        "outputId": "7bd6ea78-e39a-4ea9-f915-15b2fab15a77"
      },
      "execution_count": 18,
      "outputs": [
        {
          "output_type": "execute_result",
          "data": {
            "text/plain": [
              "[array([[0.37863576, 0.37863576],\n",
              "        [0.37278363, 0.37278363]], dtype=float32),\n",
              " array([0.27870044, 0.27870044], dtype=float32),\n",
              " array([[0.3794431],\n",
              "        [0.3794431]], dtype=float32),\n",
              " array([0.20835708], dtype=float32)]"
            ]
          },
          "metadata": {},
          "execution_count": 18
        }
      ]
    },
    {
      "cell_type": "code",
      "source": [],
      "metadata": {
        "id": "mbjxpKKfB6yY"
      },
      "execution_count": null,
      "outputs": []
    }
  ]
}