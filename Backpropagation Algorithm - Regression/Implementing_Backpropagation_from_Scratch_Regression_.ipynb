{
  "nbformat": 4,
  "nbformat_minor": 0,
  "metadata": {
    "colab": {
      "provenance": []
    },
    "kernelspec": {
      "name": "python3",
      "display_name": "Python 3"
    },
    "language_info": {
      "name": "python"
    }
  },
  "cells": [
    {
      "cell_type": "code",
      "execution_count": 264,
      "metadata": {
        "id": "teLniR1EF7-T"
      },
      "outputs": [],
      "source": [
        "import numpy as np\n",
        "import pandas as pd"
      ]
    },
    {
      "cell_type": "code",
      "source": [
        "df = pd.DataFrame([[8,8,4],[7,9,5],[6,10,6],[5,12,7]], columns=['cgpa', 'resume_score', 'lpa'])"
      ],
      "metadata": {
        "id": "iQ8f2HalGBrL"
      },
      "execution_count": 265,
      "outputs": []
    },
    {
      "cell_type": "code",
      "source": [
        "df"
      ],
      "metadata": {
        "colab": {
          "base_uri": "https://localhost:8080/",
          "height": 175
        },
        "id": "VtjqDyAFGbg_",
        "outputId": "96e06950-6534-4620-e88c-4428cd70705a"
      },
      "execution_count": 266,
      "outputs": [
        {
          "output_type": "execute_result",
          "data": {
            "text/plain": [
              "   cgpa  resume_score  lpa\n",
              "0     8             8    4\n",
              "1     7             9    5\n",
              "2     6            10    6\n",
              "3     5            12    7"
            ],
            "text/html": [
              "\n",
              "  <div id=\"df-3b123b86-03af-4372-96c8-e3bce5619084\" class=\"colab-df-container\">\n",
              "    <div>\n",
              "<style scoped>\n",
              "    .dataframe tbody tr th:only-of-type {\n",
              "        vertical-align: middle;\n",
              "    }\n",
              "\n",
              "    .dataframe tbody tr th {\n",
              "        vertical-align: top;\n",
              "    }\n",
              "\n",
              "    .dataframe thead th {\n",
              "        text-align: right;\n",
              "    }\n",
              "</style>\n",
              "<table border=\"1\" class=\"dataframe\">\n",
              "  <thead>\n",
              "    <tr style=\"text-align: right;\">\n",
              "      <th></th>\n",
              "      <th>cgpa</th>\n",
              "      <th>resume_score</th>\n",
              "      <th>lpa</th>\n",
              "    </tr>\n",
              "  </thead>\n",
              "  <tbody>\n",
              "    <tr>\n",
              "      <th>0</th>\n",
              "      <td>8</td>\n",
              "      <td>8</td>\n",
              "      <td>4</td>\n",
              "    </tr>\n",
              "    <tr>\n",
              "      <th>1</th>\n",
              "      <td>7</td>\n",
              "      <td>9</td>\n",
              "      <td>5</td>\n",
              "    </tr>\n",
              "    <tr>\n",
              "      <th>2</th>\n",
              "      <td>6</td>\n",
              "      <td>10</td>\n",
              "      <td>6</td>\n",
              "    </tr>\n",
              "    <tr>\n",
              "      <th>3</th>\n",
              "      <td>5</td>\n",
              "      <td>12</td>\n",
              "      <td>7</td>\n",
              "    </tr>\n",
              "  </tbody>\n",
              "</table>\n",
              "</div>\n",
              "    <div class=\"colab-df-buttons\">\n",
              "\n",
              "  <div class=\"colab-df-container\">\n",
              "    <button class=\"colab-df-convert\" onclick=\"convertToInteractive('df-3b123b86-03af-4372-96c8-e3bce5619084')\"\n",
              "            title=\"Convert this dataframe to an interactive table.\"\n",
              "            style=\"display:none;\">\n",
              "\n",
              "  <svg xmlns=\"http://www.w3.org/2000/svg\" height=\"24px\" viewBox=\"0 -960 960 960\">\n",
              "    <path d=\"M120-120v-720h720v720H120Zm60-500h600v-160H180v160Zm220 220h160v-160H400v160Zm0 220h160v-160H400v160ZM180-400h160v-160H180v160Zm440 0h160v-160H620v160ZM180-180h160v-160H180v160Zm440 0h160v-160H620v160Z\"/>\n",
              "  </svg>\n",
              "    </button>\n",
              "\n",
              "  <style>\n",
              "    .colab-df-container {\n",
              "      display:flex;\n",
              "      gap: 12px;\n",
              "    }\n",
              "\n",
              "    .colab-df-convert {\n",
              "      background-color: #E8F0FE;\n",
              "      border: none;\n",
              "      border-radius: 50%;\n",
              "      cursor: pointer;\n",
              "      display: none;\n",
              "      fill: #1967D2;\n",
              "      height: 32px;\n",
              "      padding: 0 0 0 0;\n",
              "      width: 32px;\n",
              "    }\n",
              "\n",
              "    .colab-df-convert:hover {\n",
              "      background-color: #E2EBFA;\n",
              "      box-shadow: 0px 1px 2px rgba(60, 64, 67, 0.3), 0px 1px 3px 1px rgba(60, 64, 67, 0.15);\n",
              "      fill: #174EA6;\n",
              "    }\n",
              "\n",
              "    .colab-df-buttons div {\n",
              "      margin-bottom: 4px;\n",
              "    }\n",
              "\n",
              "    [theme=dark] .colab-df-convert {\n",
              "      background-color: #3B4455;\n",
              "      fill: #D2E3FC;\n",
              "    }\n",
              "\n",
              "    [theme=dark] .colab-df-convert:hover {\n",
              "      background-color: #434B5C;\n",
              "      box-shadow: 0px 1px 3px 1px rgba(0, 0, 0, 0.15);\n",
              "      filter: drop-shadow(0px 1px 2px rgba(0, 0, 0, 0.3));\n",
              "      fill: #FFFFFF;\n",
              "    }\n",
              "  </style>\n",
              "\n",
              "    <script>\n",
              "      const buttonEl =\n",
              "        document.querySelector('#df-3b123b86-03af-4372-96c8-e3bce5619084 button.colab-df-convert');\n",
              "      buttonEl.style.display =\n",
              "        google.colab.kernel.accessAllowed ? 'block' : 'none';\n",
              "\n",
              "      async function convertToInteractive(key) {\n",
              "        const element = document.querySelector('#df-3b123b86-03af-4372-96c8-e3bce5619084');\n",
              "        const dataTable =\n",
              "          await google.colab.kernel.invokeFunction('convertToInteractive',\n",
              "                                                    [key], {});\n",
              "        if (!dataTable) return;\n",
              "\n",
              "        const docLinkHtml = 'Like what you see? Visit the ' +\n",
              "          '<a target=\"_blank\" href=https://colab.research.google.com/notebooks/data_table.ipynb>data table notebook</a>'\n",
              "          + ' to learn more about interactive tables.';\n",
              "        element.innerHTML = '';\n",
              "        dataTable['output_type'] = 'display_data';\n",
              "        await google.colab.output.renderOutput(dataTable, element);\n",
              "        const docLink = document.createElement('div');\n",
              "        docLink.innerHTML = docLinkHtml;\n",
              "        element.appendChild(docLink);\n",
              "      }\n",
              "    </script>\n",
              "  </div>\n",
              "\n",
              "\n",
              "<div id=\"df-5139aac4-6be0-446d-9528-bd6c7fc35151\">\n",
              "  <button class=\"colab-df-quickchart\" onclick=\"quickchart('df-5139aac4-6be0-446d-9528-bd6c7fc35151')\"\n",
              "            title=\"Suggest charts.\"\n",
              "            style=\"display:none;\">\n",
              "\n",
              "<svg xmlns=\"http://www.w3.org/2000/svg\" height=\"24px\"viewBox=\"0 0 24 24\"\n",
              "     width=\"24px\">\n",
              "    <g>\n",
              "        <path d=\"M19 3H5c-1.1 0-2 .9-2 2v14c0 1.1.9 2 2 2h14c1.1 0 2-.9 2-2V5c0-1.1-.9-2-2-2zM9 17H7v-7h2v7zm4 0h-2V7h2v10zm4 0h-2v-4h2v4z\"/>\n",
              "    </g>\n",
              "</svg>\n",
              "  </button>\n",
              "\n",
              "<style>\n",
              "  .colab-df-quickchart {\n",
              "      --bg-color: #E8F0FE;\n",
              "      --fill-color: #1967D2;\n",
              "      --hover-bg-color: #E2EBFA;\n",
              "      --hover-fill-color: #174EA6;\n",
              "      --disabled-fill-color: #AAA;\n",
              "      --disabled-bg-color: #DDD;\n",
              "  }\n",
              "\n",
              "  [theme=dark] .colab-df-quickchart {\n",
              "      --bg-color: #3B4455;\n",
              "      --fill-color: #D2E3FC;\n",
              "      --hover-bg-color: #434B5C;\n",
              "      --hover-fill-color: #FFFFFF;\n",
              "      --disabled-bg-color: #3B4455;\n",
              "      --disabled-fill-color: #666;\n",
              "  }\n",
              "\n",
              "  .colab-df-quickchart {\n",
              "    background-color: var(--bg-color);\n",
              "    border: none;\n",
              "    border-radius: 50%;\n",
              "    cursor: pointer;\n",
              "    display: none;\n",
              "    fill: var(--fill-color);\n",
              "    height: 32px;\n",
              "    padding: 0;\n",
              "    width: 32px;\n",
              "  }\n",
              "\n",
              "  .colab-df-quickchart:hover {\n",
              "    background-color: var(--hover-bg-color);\n",
              "    box-shadow: 0 1px 2px rgba(60, 64, 67, 0.3), 0 1px 3px 1px rgba(60, 64, 67, 0.15);\n",
              "    fill: var(--button-hover-fill-color);\n",
              "  }\n",
              "\n",
              "  .colab-df-quickchart-complete:disabled,\n",
              "  .colab-df-quickchart-complete:disabled:hover {\n",
              "    background-color: var(--disabled-bg-color);\n",
              "    fill: var(--disabled-fill-color);\n",
              "    box-shadow: none;\n",
              "  }\n",
              "\n",
              "  .colab-df-spinner {\n",
              "    border: 2px solid var(--fill-color);\n",
              "    border-color: transparent;\n",
              "    border-bottom-color: var(--fill-color);\n",
              "    animation:\n",
              "      spin 1s steps(1) infinite;\n",
              "  }\n",
              "\n",
              "  @keyframes spin {\n",
              "    0% {\n",
              "      border-color: transparent;\n",
              "      border-bottom-color: var(--fill-color);\n",
              "      border-left-color: var(--fill-color);\n",
              "    }\n",
              "    20% {\n",
              "      border-color: transparent;\n",
              "      border-left-color: var(--fill-color);\n",
              "      border-top-color: var(--fill-color);\n",
              "    }\n",
              "    30% {\n",
              "      border-color: transparent;\n",
              "      border-left-color: var(--fill-color);\n",
              "      border-top-color: var(--fill-color);\n",
              "      border-right-color: var(--fill-color);\n",
              "    }\n",
              "    40% {\n",
              "      border-color: transparent;\n",
              "      border-right-color: var(--fill-color);\n",
              "      border-top-color: var(--fill-color);\n",
              "    }\n",
              "    60% {\n",
              "      border-color: transparent;\n",
              "      border-right-color: var(--fill-color);\n",
              "    }\n",
              "    80% {\n",
              "      border-color: transparent;\n",
              "      border-right-color: var(--fill-color);\n",
              "      border-bottom-color: var(--fill-color);\n",
              "    }\n",
              "    90% {\n",
              "      border-color: transparent;\n",
              "      border-bottom-color: var(--fill-color);\n",
              "    }\n",
              "  }\n",
              "</style>\n",
              "\n",
              "  <script>\n",
              "    async function quickchart(key) {\n",
              "      const quickchartButtonEl =\n",
              "        document.querySelector('#' + key + ' button');\n",
              "      quickchartButtonEl.disabled = true;  // To prevent multiple clicks.\n",
              "      quickchartButtonEl.classList.add('colab-df-spinner');\n",
              "      try {\n",
              "        const charts = await google.colab.kernel.invokeFunction(\n",
              "            'suggestCharts', [key], {});\n",
              "      } catch (error) {\n",
              "        console.error('Error during call to suggestCharts:', error);\n",
              "      }\n",
              "      quickchartButtonEl.classList.remove('colab-df-spinner');\n",
              "      quickchartButtonEl.classList.add('colab-df-quickchart-complete');\n",
              "    }\n",
              "    (() => {\n",
              "      let quickchartButtonEl =\n",
              "        document.querySelector('#df-5139aac4-6be0-446d-9528-bd6c7fc35151 button');\n",
              "      quickchartButtonEl.style.display =\n",
              "        google.colab.kernel.accessAllowed ? 'block' : 'none';\n",
              "    })();\n",
              "  </script>\n",
              "</div>\n",
              "    </div>\n",
              "  </div>\n"
            ]
          },
          "metadata": {},
          "execution_count": 266
        }
      ]
    },
    {
      "cell_type": "markdown",
      "source": [
        "# **FIRST ITERATION**"
      ],
      "metadata": {
        "id": "JzNy2IqIvgEC"
      }
    },
    {
      "cell_type": "markdown",
      "source": [
        "## FIRST ROW"
      ],
      "metadata": {
        "id": "UEPZd9J7pNSr"
      }
    },
    {
      "cell_type": "code",
      "source": [
        "def initialize_parameters(layer_dims):\n",
        "\n",
        "  np.random.seed(3)\n",
        "  parameters = {}\n",
        "  L = len(layer_dims)\n",
        "\n",
        "  for l in range(1, L):\n",
        "\n",
        "    parameters['W' + str(l)] = np.ones((layer_dims[l-1], layer_dims[l]))*0.1\n",
        "    parameters['b' + str(l)] = np.zeros((layer_dims[l], 1))\n",
        "\n",
        "\n",
        "  return parameters"
      ],
      "metadata": {
        "id": "bxaq45mTGckB"
      },
      "execution_count": 267,
      "outputs": []
    },
    {
      "cell_type": "code",
      "source": [
        "initialize_parameters([2,2,1])"
      ],
      "metadata": {
        "colab": {
          "base_uri": "https://localhost:8080/"
        },
        "id": "9yc9PThkK1ZR",
        "outputId": "19abb2b1-bba4-41f1-a375-259b13a886c5"
      },
      "execution_count": 268,
      "outputs": [
        {
          "output_type": "execute_result",
          "data": {
            "text/plain": [
              "{'W1': array([[0.1, 0.1],\n",
              "        [0.1, 0.1]]),\n",
              " 'b1': array([[0.],\n",
              "        [0.]]),\n",
              " 'W2': array([[0.1],\n",
              "        [0.1]]),\n",
              " 'b2': array([[0.]])}"
            ]
          },
          "metadata": {},
          "execution_count": 268
        }
      ]
    },
    {
      "cell_type": "code",
      "source": [
        "def linear_forward(A_prev, W, b):\n",
        "  Z = np.dot(W.T, A_prev) + b\n",
        "\n",
        "  return Z"
      ],
      "metadata": {
        "id": "0aiqc9khK8g3"
      },
      "execution_count": 269,
      "outputs": []
    },
    {
      "cell_type": "code",
      "source": [
        "# Forward Propagation\n",
        "\n",
        "def L_layer_forward(X, parameters):\n",
        "  A = X\n",
        "  L = len(parameters) // 2\n",
        "\n",
        "  for l in range(1, L+1):\n",
        "    A_prev = A\n",
        "    W1 = parameters['W' + str(l)]\n",
        "    b1 = parameters['b' + str(l)]\n",
        "    print('A'+str(l-1)+ ': ', A_prev)\n",
        "    print('W'+str(l)+ ': ', W1)\n",
        "    print('b'+str(l)+ ': ', b1)\n",
        "    print('--'*20)\n",
        "\n",
        "    A = linear_forward(A_prev, W1, b1)\n",
        "    print('A'+str(l)+': ', A)\n",
        "    print('**'*20)\n",
        "\n",
        "  return A, A_prev"
      ],
      "metadata": {
        "id": "E1SktzML4b52"
      },
      "execution_count": 270,
      "outputs": []
    },
    {
      "cell_type": "code",
      "source": [
        "X = df[['cgpa', 'resume_score']].values[0].reshape(2,1)\n",
        "y = df[['lpa']].values[0][0]\n",
        "\n",
        "parameters = initialize_parameters([2,2,1])\n",
        "\n",
        "y_hat, A1 = L_layer_forward(X, parameters)"
      ],
      "metadata": {
        "colab": {
          "base_uri": "https://localhost:8080/"
        },
        "id": "DbmFUHsV7U5p",
        "outputId": "bbe310a9-90a2-4d88-f179-ec055e7af8e9"
      },
      "execution_count": 271,
      "outputs": [
        {
          "output_type": "stream",
          "name": "stdout",
          "text": [
            "A0:  [[8]\n",
            " [8]]\n",
            "W1:  [[0.1 0.1]\n",
            " [0.1 0.1]]\n",
            "b1:  [[0.]\n",
            " [0.]]\n",
            "----------------------------------------\n",
            "A1:  [[1.6]\n",
            " [1.6]]\n",
            "****************************************\n",
            "A1:  [[1.6]\n",
            " [1.6]]\n",
            "W2:  [[0.1]\n",
            " [0.1]]\n",
            "b2:  [[0.]]\n",
            "----------------------------------------\n",
            "A2:  [[0.32]]\n",
            "****************************************\n"
          ]
        }
      ]
    },
    {
      "cell_type": "code",
      "source": [
        "loss_1 = (y - 0.32)**2\n",
        "print('Loss :',loss_1)"
      ],
      "metadata": {
        "colab": {
          "base_uri": "https://localhost:8080/"
        },
        "id": "0H0rF9Dn7x40",
        "outputId": "56a8e089-b807-469a-8fcf-ccc5249d161b"
      },
      "execution_count": 272,
      "outputs": [
        {
          "output_type": "stream",
          "name": "stdout",
          "text": [
            "Loss : 13.5424\n"
          ]
        }
      ]
    },
    {
      "cell_type": "code",
      "source": [
        "def update_parameters(parameters, y, y_hat, A1, X):\n",
        "  parameters['W1'][0][0] = parameters['W1'][0][0] + (0.001 * 2 * (y - y_hat)*parameters['W2'][0][0]*X[0][0])\n",
        "  parameters['W1'][0][1] = parameters['W1'][0][1] + (0.001 * 2 * (y - y_hat)*parameters['W2'][0][0]*X[1][0])\n",
        "  parameters['b1'][0][0] = parameters['b1'][0][0] + (0.001 * 2 * (y - y_hat)*parameters['W2'][0][0])\n",
        "\n",
        "  parameters['W1'][1][0] = parameters['W1'][1][0] + (0.001 * 2 * (y - y_hat)*parameters['W2'][1][0]*X[0][0])\n",
        "  parameters['W1'][1][1] = parameters['W1'][1][1] + (0.001 * 2 * (y - y_hat)*parameters['W2'][1][0]*X[1][0])\n",
        "  parameters['b1'][1][0] = parameters['b1'][1][0] + (0.001 * 2 * (y - y_hat)*parameters['W2'][1][0])\n",
        "\n",
        "  parameters['W2'][0][0] = parameters['W2'][0][0] + (0.001 * 2 * (y - y_hat)*A1[0][0])\n",
        "  parameters['W2'][1][0] = parameters['W2'][1][0] + (0.001 * 2 * (y - y_hat)*A1[1][0])\n",
        "  parameters['b2'][0][0] = parameters['b2'][0][0] + (0.001 * 2 * (y - y_hat))\n"
      ],
      "metadata": {
        "id": "Hezmab-ApzNd"
      },
      "execution_count": 273,
      "outputs": []
    },
    {
      "cell_type": "code",
      "source": [
        "update_parameters(parameters, y, y_hat, A1, X)"
      ],
      "metadata": {
        "id": "tbQ1sMqRa0I8"
      },
      "execution_count": 274,
      "outputs": []
    },
    {
      "cell_type": "code",
      "source": [
        "parameters"
      ],
      "metadata": {
        "colab": {
          "base_uri": "https://localhost:8080/"
        },
        "id": "7iIU6mr0ouqL",
        "outputId": "b6755c72-2f99-453b-c6ef-53502398ffe2"
      },
      "execution_count": 275,
      "outputs": [
        {
          "output_type": "execute_result",
          "data": {
            "text/plain": [
              "{'W1': array([[0.105888, 0.105888],\n",
              "        [0.105888, 0.105888]]),\n",
              " 'b1': array([[0.000736],\n",
              "        [0.000736]]),\n",
              " 'W2': array([[0.111776],\n",
              "        [0.111776]]),\n",
              " 'b2': array([[0.00736]])}"
            ]
          },
          "metadata": {},
          "execution_count": 275
        }
      ]
    },
    {
      "cell_type": "markdown",
      "source": [
        "## SECOND ROW"
      ],
      "metadata": {
        "id": "LcRMP5MVpuLG"
      }
    },
    {
      "cell_type": "code",
      "source": [
        "X = df[['cgpa', 'resume_score']].values[1].reshape(2,1)\n",
        "y = df[['lpa']].values[1][0]\n",
        "\n",
        "y_hat, A1 = L_layer_forward(X, parameters)"
      ],
      "metadata": {
        "colab": {
          "base_uri": "https://localhost:8080/"
        },
        "id": "2LtDlxSNp154",
        "outputId": "9fee6222-0768-4159-d50c-04cecb2d35e4"
      },
      "execution_count": 276,
      "outputs": [
        {
          "output_type": "stream",
          "name": "stdout",
          "text": [
            "A0:  [[7]\n",
            " [9]]\n",
            "W1:  [[0.105888 0.105888]\n",
            " [0.105888 0.105888]]\n",
            "b1:  [[0.000736]\n",
            " [0.000736]]\n",
            "----------------------------------------\n",
            "A1:  [[1.694944]\n",
            " [1.694944]]\n",
            "****************************************\n",
            "A1:  [[1.694944]\n",
            " [1.694944]]\n",
            "W2:  [[0.111776]\n",
            " [0.111776]]\n",
            "b2:  [[0.00736]]\n",
            "----------------------------------------\n",
            "A2:  [[0.38626812]]\n",
            "****************************************\n"
          ]
        }
      ]
    },
    {
      "cell_type": "code",
      "source": [
        "loss_2 = (y - 0.386)**2\n",
        "print('Loss :',loss_2)"
      ],
      "metadata": {
        "colab": {
          "base_uri": "https://localhost:8080/"
        },
        "id": "4ot_SVcHuR9T",
        "outputId": "0eb44370-f97a-48af-9f21-f0f88c6b6c0d"
      },
      "execution_count": 277,
      "outputs": [
        {
          "output_type": "stream",
          "name": "stdout",
          "text": [
            "Loss : 21.288995999999997\n"
          ]
        }
      ]
    },
    {
      "cell_type": "code",
      "source": [
        "update_parameters(parameters, y, y_hat, A1, X)"
      ],
      "metadata": {
        "id": "MPGgjAfBt57y"
      },
      "execution_count": 278,
      "outputs": []
    },
    {
      "cell_type": "code",
      "source": [
        "parameters"
      ],
      "metadata": {
        "colab": {
          "base_uri": "https://localhost:8080/"
        },
        "id": "U2rG4fVnqvQc",
        "outputId": "49e68d48-e25a-4ba0-c91b-fd9820cd5dfe"
      },
      "execution_count": 279,
      "outputs": [
        {
          "output_type": "execute_result",
          "data": {
            "text/plain": [
              "{'W1': array([[0.11310786, 0.11517068],\n",
              "        [0.11310786, 0.11517068]]),\n",
              " 'b1': array([[0.00176741],\n",
              "        [0.00176741]]),\n",
              " 'W2': array([[0.12741603],\n",
              "        [0.12741603]]),\n",
              " 'b2': array([[0.01658746]])}"
            ]
          },
          "metadata": {},
          "execution_count": 279
        }
      ]
    },
    {
      "cell_type": "markdown",
      "source": [
        "## THIRD ROW"
      ],
      "metadata": {
        "id": "4MD49oszuktC"
      }
    },
    {
      "cell_type": "code",
      "source": [
        "X = df[['cgpa', 'resume_score']].values[2].reshape(2,1)\n",
        "y = df[['lpa']].values[2][0]\n",
        "\n",
        "y_hat, A1 = L_layer_forward(X, parameters)"
      ],
      "metadata": {
        "colab": {
          "base_uri": "https://localhost:8080/"
        },
        "id": "MzgPFR-2q514",
        "outputId": "01b391fb-f118-4712-ef8a-cd664466a144"
      },
      "execution_count": 280,
      "outputs": [
        {
          "output_type": "stream",
          "name": "stdout",
          "text": [
            "A0:  [[ 6]\n",
            " [10]]\n",
            "W1:  [[0.11310786 0.11517068]\n",
            " [0.11310786 0.11517068]]\n",
            "b1:  [[0.00176741]\n",
            " [0.00176741]]\n",
            "----------------------------------------\n",
            "A1:  [[1.81149322]\n",
            " [1.8444983 ]]\n",
            "****************************************\n",
            "A1:  [[1.81149322]\n",
            " [1.8444983 ]]\n",
            "W2:  [[0.12741603]\n",
            " [0.12741603]]\n",
            "b2:  [[0.01658746]]\n",
            "----------------------------------------\n",
            "A2:  [[0.4824194]]\n",
            "****************************************\n"
          ]
        }
      ]
    },
    {
      "cell_type": "code",
      "source": [
        "loss_3 = (y - 0.482)**2\n",
        "print('Loss :',loss_3)"
      ],
      "metadata": {
        "colab": {
          "base_uri": "https://localhost:8080/"
        },
        "id": "UNSgoyVSuvX8",
        "outputId": "6da135e4-4393-4752-cc7f-6582ec864a02"
      },
      "execution_count": 281,
      "outputs": [
        {
          "output_type": "stream",
          "name": "stdout",
          "text": [
            "Loss : 30.448324\n"
          ]
        }
      ]
    },
    {
      "cell_type": "code",
      "source": [
        "update_parameters(parameters, y, y_hat, A1, X)"
      ],
      "metadata": {
        "id": "-JhsFIa2u2fJ"
      },
      "execution_count": 282,
      "outputs": []
    },
    {
      "cell_type": "code",
      "source": [
        "parameters"
      ],
      "metadata": {
        "colab": {
          "base_uri": "https://localhost:8080/"
        },
        "id": "CxkHcrhZu58c",
        "outputId": "17d3eb57-73bd-4d60-b4de-98b45e0f7eac"
      },
      "execution_count": 283,
      "outputs": [
        {
          "output_type": "execute_result",
          "data": {
            "text/plain": [
              "{'W1': array([[0.1215442 , 0.12923125],\n",
              "        [0.1215442 , 0.12923125]]),\n",
              " 'b1': array([[0.00317347],\n",
              "        [0.00317347]]),\n",
              " 'W2': array([[0.14740615],\n",
              "        [0.14777037]]),\n",
              " 'b2': array([[0.02762262]])}"
            ]
          },
          "metadata": {},
          "execution_count": 283
        }
      ]
    },
    {
      "cell_type": "markdown",
      "source": [
        "## FOURTH ROW"
      ],
      "metadata": {
        "id": "Jae86pI6u_JN"
      }
    },
    {
      "cell_type": "code",
      "source": [
        "X = df[['cgpa', 'resume_score']].values[3].reshape(2,1)\n",
        "y = df[['lpa']].values[3][0]\n",
        "\n",
        "y_hat, A1 = L_layer_forward(X, parameters)"
      ],
      "metadata": {
        "colab": {
          "base_uri": "https://localhost:8080/"
        },
        "id": "05iwnc7Eu7Xu",
        "outputId": "32260417-112e-464e-f637-bff7f222e12b"
      },
      "execution_count": 284,
      "outputs": [
        {
          "output_type": "stream",
          "name": "stdout",
          "text": [
            "A0:  [[ 5]\n",
            " [12]]\n",
            "W1:  [[0.1215442  0.12923125]\n",
            " [0.1215442  0.12923125]]\n",
            "b1:  [[0.00317347]\n",
            " [0.00317347]]\n",
            "----------------------------------------\n",
            "A1:  [[2.0694249 ]\n",
            " [2.20010464]]\n",
            "****************************************\n",
            "A1:  [[2.0694249 ]\n",
            " [2.20010464]]\n",
            "W2:  [[0.14740615]\n",
            " [0.14777037]]\n",
            "b2:  [[0.02762262]]\n",
            "----------------------------------------\n",
            "A2:  [[0.65777887]]\n",
            "****************************************\n"
          ]
        }
      ]
    },
    {
      "cell_type": "code",
      "source": [
        "loss_4 = (y - 0.657)**2\n",
        "print('Loss :',loss_4)"
      ],
      "metadata": {
        "colab": {
          "base_uri": "https://localhost:8080/"
        },
        "id": "7leiCUQwvHHp",
        "outputId": "587aa843-8035-45bd-9923-5f244c5a7f4e"
      },
      "execution_count": 285,
      "outputs": [
        {
          "output_type": "stream",
          "name": "stdout",
          "text": [
            "Loss : 40.233649\n"
          ]
        }
      ]
    },
    {
      "cell_type": "code",
      "source": [
        "update_parameters(parameters, y, y_hat, A1, X)"
      ],
      "metadata": {
        "id": "5yyKvruTvNvZ"
      },
      "execution_count": 286,
      "outputs": []
    },
    {
      "cell_type": "code",
      "source": [
        "parameters"
      ],
      "metadata": {
        "colab": {
          "base_uri": "https://localhost:8080/"
        },
        "id": "c4HL5UdmvTA_",
        "outputId": "a646a9ae-a28c-4014-b6fe-e07df1d9c21b"
      },
      "execution_count": 287,
      "outputs": [
        {
          "output_type": "execute_result",
          "data": {
            "text/plain": [
              "{'W1': array([[0.13089303, 0.15166842],\n",
              "        [0.13091613, 0.15172386]]),\n",
              " 'b1': array([[0.00504323],\n",
              "        [0.00504785]]),\n",
              " 'W2': array([[0.17365565],\n",
              "        [0.17567747]]),\n",
              " 'b2': array([[0.04030707]])}"
            ]
          },
          "metadata": {},
          "execution_count": 287
        }
      ]
    },
    {
      "cell_type": "markdown",
      "source": [
        "## AVERAGE LOSS OF FIRST ITERATION"
      ],
      "metadata": {
        "id": "t8aTq9YfwJ1o"
      }
    },
    {
      "cell_type": "code",
      "source": [
        "loss_of_1st_iteration = (loss_1 + loss_2 + loss_3 + loss_4) / 4\n",
        "loss_of_1st_iteration"
      ],
      "metadata": {
        "colab": {
          "base_uri": "https://localhost:8080/"
        },
        "id": "Nm7unFK5vUKM",
        "outputId": "a1b91b31-4128-44f2-dbbb-c5161850b0a6"
      },
      "execution_count": 288,
      "outputs": [
        {
          "output_type": "execute_result",
          "data": {
            "text/plain": [
              "26.37834225"
            ]
          },
          "metadata": {},
          "execution_count": 288
        }
      ]
    },
    {
      "cell_type": "markdown",
      "source": [
        "# **SECOND ITERATION**"
      ],
      "metadata": {
        "id": "KYafcxAlwgwG"
      }
    },
    {
      "cell_type": "markdown",
      "source": [
        "## FIRST ROW"
      ],
      "metadata": {
        "id": "WGKrP-XJws5O"
      }
    },
    {
      "cell_type": "code",
      "source": [
        "X = df[['cgpa', 'resume_score']].values[0].reshape(2,1)\n",
        "y = df[['lpa']].values[0][0]\n",
        "\n",
        "y_hat, A1 = L_layer_forward(X, parameters)"
      ],
      "metadata": {
        "colab": {
          "base_uri": "https://localhost:8080/"
        },
        "id": "WA3PiZHVxXBH",
        "outputId": "59b6f874-d270-4979-aa10-0ecefcc1a4fe"
      },
      "execution_count": 289,
      "outputs": [
        {
          "output_type": "stream",
          "name": "stdout",
          "text": [
            "A0:  [[8]\n",
            " [8]]\n",
            "W1:  [[0.13089303 0.15166842]\n",
            " [0.13091613 0.15172386]]\n",
            "b1:  [[0.00504323]\n",
            " [0.00504785]]\n",
            "----------------------------------------\n",
            "A1:  [[2.09951644]\n",
            " [2.43218614]]\n",
            "****************************************\n",
            "A1:  [[2.09951644]\n",
            " [2.43218614]]\n",
            "W2:  [[0.17365565]\n",
            " [0.17567747]]\n",
            "b2:  [[0.04030707]]\n",
            "----------------------------------------\n",
            "A2:  [[0.83218028]]\n",
            "****************************************\n"
          ]
        }
      ]
    },
    {
      "cell_type": "code",
      "source": [
        "loss_1 = (y - 0.832)**2\n",
        "print('Loss :',loss_1)"
      ],
      "metadata": {
        "colab": {
          "base_uri": "https://localhost:8080/"
        },
        "id": "_DlEvBDsxXLt",
        "outputId": "98bab4b2-5340-4980-8343-d5aa008fc5aa"
      },
      "execution_count": 290,
      "outputs": [
        {
          "output_type": "stream",
          "name": "stdout",
          "text": [
            "Loss : 10.036224\n"
          ]
        }
      ]
    },
    {
      "cell_type": "code",
      "source": [
        "update_parameters(parameters, y, y_hat, A1, X)"
      ],
      "metadata": {
        "id": "OVPGfVDgxtAp"
      },
      "execution_count": 291,
      "outputs": []
    },
    {
      "cell_type": "code",
      "source": [
        "parameters"
      ],
      "metadata": {
        "colab": {
          "base_uri": "https://localhost:8080/"
        },
        "id": "bYtkYMlSxtD6",
        "outputId": "5784a21d-aaa0-45be-b51e-ed1685ed3940"
      },
      "execution_count": 292,
      "outputs": [
        {
          "output_type": "execute_result",
          "data": {
            "text/plain": [
              "{'W1': array([[0.13969478, 0.16047018],\n",
              "        [0.13982036, 0.1606281 ]]),\n",
              " 'b1': array([[0.00614345],\n",
              "        [0.00616088]]),\n",
              " 'W2': array([[0.18695743],\n",
              "        [0.19108693]]),\n",
              " 'b2': array([[0.04664271]])}"
            ]
          },
          "metadata": {},
          "execution_count": 292
        }
      ]
    },
    {
      "cell_type": "markdown",
      "source": [
        "## SECOND ROW"
      ],
      "metadata": {
        "id": "qIYfSNGNwtHX"
      }
    },
    {
      "cell_type": "code",
      "source": [
        "X = df[['cgpa', 'resume_score']].values[1].reshape(2,1)\n",
        "y = df[['lpa']].values[1][0]\n",
        "\n",
        "y_hat, A1 = L_layer_forward(X, parameters)"
      ],
      "metadata": {
        "colab": {
          "base_uri": "https://localhost:8080/"
        },
        "id": "7NJyfibox4-v",
        "outputId": "8cf859ad-10cf-4bd4-afb1-35c33517b688"
      },
      "execution_count": 293,
      "outputs": [
        {
          "output_type": "stream",
          "name": "stdout",
          "text": [
            "A0:  [[7]\n",
            " [9]]\n",
            "W1:  [[0.13969478 0.16047018]\n",
            " [0.13982036 0.1606281 ]]\n",
            "b1:  [[0.00614345]\n",
            " [0.00616088]]\n",
            "----------------------------------------\n",
            "A1:  [[2.24239016]\n",
            " [2.575105  ]]\n",
            "****************************************\n",
            "A1:  [[2.24239016]\n",
            " [2.575105  ]]\n",
            "W2:  [[0.18695743]\n",
            " [0.19108693]]\n",
            "b2:  [[0.04664271]]\n",
            "----------------------------------------\n",
            "A2:  [[0.95794311]]\n",
            "****************************************\n"
          ]
        }
      ]
    },
    {
      "cell_type": "code",
      "source": [
        "loss_2 = (y - 0.958)**2\n",
        "print('Loss :',loss_2)"
      ],
      "metadata": {
        "colab": {
          "base_uri": "https://localhost:8080/"
        },
        "id": "DkuMwXlIx5CL",
        "outputId": "f9d27cc3-e7ee-42c1-dc26-b195d9b76b19"
      },
      "execution_count": 294,
      "outputs": [
        {
          "output_type": "stream",
          "name": "stdout",
          "text": [
            "Loss : 16.337764\n"
          ]
        }
      ]
    },
    {
      "cell_type": "code",
      "source": [
        "update_parameters(parameters, y, y_hat, A1, X)"
      ],
      "metadata": {
        "id": "DO6_D0pax5F7"
      },
      "execution_count": 295,
      "outputs": []
    },
    {
      "cell_type": "code",
      "source": [
        "parameters"
      ],
      "metadata": {
        "colab": {
          "base_uri": "https://localhost:8080/"
        },
        "id": "O0-yJLfRx5JN",
        "outputId": "d867238d-b2bd-435c-c954-7122e2cf0255"
      },
      "execution_count": 296,
      "outputs": [
        {
          "output_type": "execute_result",
          "data": {
            "text/plain": [
              "{'W1': array([[0.15027448, 0.17407265],\n",
              "        [0.15063374, 0.17453101]]),\n",
              " 'b1': array([[0.00765484],\n",
              "        [0.00770565]]),\n",
              " 'W2': array([[0.20508517],\n",
              "        [0.21190437]]),\n",
              " 'b2': array([[0.05472682]])}"
            ]
          },
          "metadata": {},
          "execution_count": 296
        }
      ]
    },
    {
      "cell_type": "markdown",
      "source": [
        "## THIRD ROW"
      ],
      "metadata": {
        "id": "977UtIVcwtTx"
      }
    },
    {
      "cell_type": "code",
      "source": [
        "X = df[['cgpa', 'resume_score']].values[2].reshape(2,1)\n",
        "y = df[['lpa']].values[2][0]\n",
        "\n",
        "y_hat, A1 = L_layer_forward(X, parameters)"
      ],
      "metadata": {
        "colab": {
          "base_uri": "https://localhost:8080/"
        },
        "id": "WjBZy1M12Qqr",
        "outputId": "3085cd0a-b54c-409f-b6b1-3f53fe1af207"
      },
      "execution_count": 297,
      "outputs": [
        {
          "output_type": "stream",
          "name": "stdout",
          "text": [
            "A0:  [[ 6]\n",
            " [10]]\n",
            "W1:  [[0.15027448 0.17407265]\n",
            " [0.15063374 0.17453101]]\n",
            "b1:  [[0.00765484]\n",
            " [0.00770565]]\n",
            "----------------------------------------\n",
            "A1:  [[2.41563908]\n",
            " [2.79745164]]\n",
            "****************************************\n",
            "A1:  [[2.41563908]\n",
            " [2.79745164]]\n",
            "W2:  [[0.20508517]\n",
            " [0.21190437]]\n",
            "b2:  [[0.05472682]]\n",
            "----------------------------------------\n",
            "A2:  [[1.14293079]]\n",
            "****************************************\n"
          ]
        }
      ]
    },
    {
      "cell_type": "code",
      "source": [
        "loss_3 = (y - 1.143)**2\n",
        "print('Loss :',loss_3)"
      ],
      "metadata": {
        "colab": {
          "base_uri": "https://localhost:8080/"
        },
        "id": "F9RrSo8M2Q0C",
        "outputId": "63f34822-50af-462b-a486-3966c63ca3eb"
      },
      "execution_count": 298,
      "outputs": [
        {
          "output_type": "stream",
          "name": "stdout",
          "text": [
            "Loss : 23.590449000000003\n"
          ]
        }
      ]
    },
    {
      "cell_type": "code",
      "source": [
        "update_parameters(parameters, y, y_hat, A1, X)"
      ],
      "metadata": {
        "id": "PAgwUH-d2RAV"
      },
      "execution_count": 299,
      "outputs": []
    },
    {
      "cell_type": "code",
      "source": [
        "parameters"
      ],
      "metadata": {
        "colab": {
          "base_uri": "https://localhost:8080/"
        },
        "id": "HjdxWZb92RPN",
        "outputId": "f3b9e37f-d82e-4127-e8ea-bdcd283b8fd4"
      },
      "execution_count": 300,
      "outputs": [
        {
          "output_type": "execute_result",
          "data": {
            "text/plain": [
              "{'W1': array([[0.16222783, 0.1939949 ],\n",
              "        [0.16298455, 0.19511569]]),\n",
              " 'b1': array([[0.00964706],\n",
              "        [0.00976412]]),\n",
              " 'W2': array([[0.22855102],\n",
              "        [0.2390792 ]]),\n",
              " 'b2': array([[0.06444096]])}"
            ]
          },
          "metadata": {},
          "execution_count": 300
        }
      ]
    },
    {
      "cell_type": "markdown",
      "source": [
        "## FOURTH ROW"
      ],
      "metadata": {
        "id": "Q8BBWm3qwtiN"
      }
    },
    {
      "cell_type": "code",
      "source": [
        "X = df[['cgpa', 'resume_score']].values[3].reshape(2,1)\n",
        "y = df[['lpa']].values[3][0]\n",
        "\n",
        "y_hat, A1 = L_layer_forward(X, parameters)"
      ],
      "metadata": {
        "colab": {
          "base_uri": "https://localhost:8080/"
        },
        "id": "mmEdfP5n2kFH",
        "outputId": "7962b6ae-9341-4680-e6be-d9555d03bdd1"
      },
      "execution_count": 301,
      "outputs": [
        {
          "output_type": "stream",
          "name": "stdout",
          "text": [
            "A0:  [[ 5]\n",
            " [12]]\n",
            "W1:  [[0.16222783 0.1939949 ]\n",
            " [0.16298455 0.19511569]]\n",
            "b1:  [[0.00964706]\n",
            " [0.00976412]]\n",
            "----------------------------------------\n",
            "A1:  [[2.7766008 ]\n",
            " [3.32112698]]\n",
            "****************************************\n",
            "A1:  [[2.7766008 ]\n",
            " [3.32112698]]\n",
            "W2:  [[0.22855102]\n",
            " [0.2390792 ]]\n",
            "b2:  [[0.06444096]]\n",
            "----------------------------------------\n",
            "A2:  [[1.49304829]]\n",
            "****************************************\n"
          ]
        }
      ]
    },
    {
      "cell_type": "code",
      "source": [
        "loss_4 = (y - 1.493)**2\n",
        "print('Loss :',loss_4)"
      ],
      "metadata": {
        "colab": {
          "base_uri": "https://localhost:8080/"
        },
        "id": "cqBdKURv2kIE",
        "outputId": "b1f54442-1a80-4627-a4c4-0b7514949420"
      },
      "execution_count": 302,
      "outputs": [
        {
          "output_type": "stream",
          "name": "stdout",
          "text": [
            "Loss : 30.327048999999995\n"
          ]
        }
      ]
    },
    {
      "cell_type": "code",
      "source": [
        "update_parameters(parameters, y, y_hat, A1, X)"
      ],
      "metadata": {
        "id": "ehFIc2_i2kLf"
      },
      "execution_count": 303,
      "outputs": []
    },
    {
      "cell_type": "code",
      "source": [
        "parameters"
      ],
      "metadata": {
        "colab": {
          "base_uri": "https://localhost:8080/"
        },
        "id": "vugovmOc2kgy",
        "outputId": "3c057aec-82f8-40e2-d38f-0ac570663d9b"
      },
      "execution_count": 304,
      "outputs": [
        {
          "output_type": "execute_result",
          "data": {
            "text/plain": [
              "{'W1': array([[0.17481403, 0.22420177],\n",
              "        [0.17615052, 0.22671404]]),\n",
              " 'b1': array([[0.0121643 ],\n",
              "        [0.01239731]]),\n",
              " 'W2': array([[0.25913224],\n",
              "        [0.27565777]]),\n",
              " 'b2': array([[0.07545486]])}"
            ]
          },
          "metadata": {},
          "execution_count": 304
        }
      ]
    },
    {
      "cell_type": "markdown",
      "source": [
        "## AVERAGE LOSS OF SECOND ITERATION"
      ],
      "metadata": {
        "id": "xHcAoG3xwumg"
      }
    },
    {
      "cell_type": "code",
      "source": [
        "loss_of_2nd_iteration = (loss_1 + loss_2 + loss_3 + loss_4) / 4\n",
        "loss_of_2nd_iteration"
      ],
      "metadata": {
        "colab": {
          "base_uri": "https://localhost:8080/"
        },
        "id": "Z0bg0Hn3xEAp",
        "outputId": "ff1c2dba-4dcc-4eb3-e05d-16f00927c13f"
      },
      "execution_count": 305,
      "outputs": [
        {
          "output_type": "execute_result",
          "data": {
            "text/plain": [
              "20.072871499999998"
            ]
          },
          "metadata": {},
          "execution_count": 305
        }
      ]
    },
    {
      "cell_type": "markdown",
      "source": [
        "AVERAGE LOSS OF FIRST ITERATION : 26.37\n",
        "\n",
        "AVERAGE LOSS OF SECOND ITERATION : 20.07\n",
        "\n",
        "\n",
        "We can clearly see that the loss is reduced in the second iteration compared to the first iteration, which was our goal."
      ],
      "metadata": {
        "id": "OaIDDiAq3Kg7"
      }
    },
    {
      "cell_type": "markdown",
      "source": [
        "# PERFORMING WHOLE OPERATION WITH THE SINGLE PEICE OF CODE"
      ],
      "metadata": {
        "id": "OwwbG1zU37P-"
      }
    },
    {
      "cell_type": "code",
      "source": [
        "# Forward Propagation\n",
        "\n",
        "def L_layer_forward(X, parameters):\n",
        "  A = X\n",
        "  L = len(parameters) // 2\n",
        "\n",
        "  for l in range(1, L+1):\n",
        "    A_prev = A\n",
        "    W1 = parameters['W' + str(l)]\n",
        "    b1 = parameters['b' + str(l)]\n",
        "\n",
        "    A = linear_forward(A_prev, W1, b1)\n",
        "\n",
        "  return A, A_prev"
      ],
      "metadata": {
        "id": "x_QsSzkw52pQ"
      },
      "execution_count": 306,
      "outputs": []
    },
    {
      "cell_type": "code",
      "source": [
        "parameters = initialize_parameters([2,2,1])\n",
        "epochs = 5\n",
        "\n",
        "for i in range(epochs):\n",
        "  Loss = []\n",
        "\n",
        "  for j in range(df.shape[0]):\n",
        "    X = df[['cgpa','resume_score']].values[j].reshape(2,1)\n",
        "    y = df[['lpa']].values[j][0]\n",
        "\n",
        "    y_hat, A1 = L_layer_forward(X, parameters)\n",
        "    update_parameters(parameters, y, y_hat, A1, X)\n",
        "    Loss.append((y-y_hat)**2)\n",
        "\n",
        "  print('Epochs: ', i+1, ' -->  Loss: ', np.array(Loss).mean())\n",
        "\n",
        "print('\\n')\n",
        "print('PARAMETERS\\n')\n",
        "parameters\n"
      ],
      "metadata": {
        "colab": {
          "base_uri": "https://localhost:8080/"
        },
        "id": "pdyImebE3yEn",
        "outputId": "561ac5e9-4b5f-4992-a07e-1be0cb9895ec"
      },
      "execution_count": 312,
      "outputs": [
        {
          "output_type": "stream",
          "name": "stdout",
          "text": [
            "Epochs:  1  -->  Loss:  26.37409659194819\n",
            "Epochs:  2  -->  Loss:  20.072736010883336\n",
            "Epochs:  3  -->  Loss:  11.300115717590234\n",
            "Epochs:  4  -->  Loss:  4.160816947552781\n",
            "Epochs:  5  -->  Loss:  1.49698118186726\n",
            "\n",
            "\n",
            "PARAMETERS\n",
            "\n"
          ]
        },
        {
          "output_type": "execute_result",
          "data": {
            "text/plain": [
              "{'W1': array([[0.26880129, 0.38830067],\n",
              "        [0.2804897 , 0.40973401]]),\n",
              " 'b1': array([[0.02790704],\n",
              "        [0.02991993]]),\n",
              " 'W2': array([[0.43176552],\n",
              "        [0.50568523]]),\n",
              " 'b2': array([[0.1234205]])}"
            ]
          },
          "metadata": {},
          "execution_count": 312
        }
      ]
    }
  ]
}